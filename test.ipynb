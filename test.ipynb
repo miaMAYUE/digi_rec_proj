{
 "cells": [
  {
   "cell_type": "code",
   "execution_count": 11,
   "id": "4c23ddc6",
   "metadata": {},
   "outputs": [
    {
     "name": "stdout",
     "output_type": "stream",
     "text": [
      "✅ 文件解析成功！\n",
      "在文件中找到了以下变量： ['ans', 'testx', 'testy', 'trainx', 'trainy']\n",
      "--------------------\n",
      "变量 'ans' 的形状: (2,)\n",
      "变量 'testx' 的形状: (7680,)\n",
      "变量 'testy' 的形状: (30,)\n",
      "变量 'trainx' 的形状: (7680,)\n",
      "变量 'trainy' 的形状: (30,)\n",
      "\n",
      "成功获取 'testx' 数据，它的前5个值是:\n",
      "[-0.99999988 -0.99999988 -0.99999988 -0.99998307 -0.99836063]\n"
     ]
    }
   ],
   "source": [
    "import numpy as np\n",
    "\n",
    "file_path = 'digit_123.mat'\n",
    "# 创建一个字典，用来存储我们从文件中解析出来的所有变量\n",
    "parsed_data = {}\n",
    "\n",
    "# 'with open' 会帮我们安全地打开和关闭文件\n",
    "with open(file_path, 'r') as f:\n",
    "    current_var_name = None\n",
    "    current_var_data = []\n",
    "    \n",
    "    # 逐行读取文件\n",
    "    for line in f:\n",
    "        # 去掉行首行尾的空白字符\n",
    "        line = line.strip()\n",
    "        \n",
    "        # 如果是注释行\n",
    "        if line.startswith('#'):\n",
    "            # 如果这行是变量名定义，说明一个新数据块开始了\n",
    "            if line.startswith('# name:'):\n",
    "                # 在开始新数据块之前，先把上一个数据块保存起来\n",
    "                if current_var_name and current_var_data:\n",
    "                    # 将收集到的字符串数据转换成numpy数组\n",
    "                    array = np.array(current_var_data, dtype=float)\n",
    "                    parsed_data[current_var_name] = array\n",
    "                \n",
    "                # 获取新的变量名，并清空数据列表，准备接收新数据\n",
    "                current_var_name = line.split(':')[-1].strip()\n",
    "                current_var_data = []\n",
    "            # 其他注释行直接跳过\n",
    "            continue\n",
    "        \n",
    "        # 如果是数据行，就把它按空格分割，然后加到当前变量的数据列表中\n",
    "        if line: # 确保不是空行\n",
    "            current_var_data.extend(line.split())\n",
    "\n",
    "# 循环结束后，不要忘记保存最后一个读取的数据块\n",
    "if current_var_name and current_var_data:\n",
    "    array = np.array(current_var_data, dtype=float)\n",
    "    parsed_data[current_var_name] = array\n",
    "\n",
    "# --- 解析完成，我们来查看一下结果 ---\n",
    "print(\"✅ 文件解析成功！\")\n",
    "print(\"在文件中找到了以下变量：\", list(parsed_data.keys()))\n",
    "print(\"-\" * 20)\n",
    "\n",
    "# 打印出每个变量的形状 (shape)\n",
    "for name, data in parsed_data.items():\n",
    "    print(f\"变量 '{name}' 的形状: {data.shape}\")\n",
    "\n",
    "# 现在，你可以像使用字典一样，通过变量名来访问数据了\n",
    "# 例如，获取 'testx' 的数据\n",
    "testx_data = parsed_data.get('testx')\n",
    "if testx_data is not None:\n",
    "    print(\"\\n成功获取 'testx' 数据，它的前5个值是:\")\n",
    "    print(testx_data[:5])"
   ]
  },
  {
   "cell_type": "code",
   "execution_count": 12,
   "id": "f241685f",
   "metadata": {},
   "outputs": [
    {
     "name": "stdout",
     "output_type": "stream",
     "text": [
      "✅ 数据重塑成功!\n",
      "重塑后 'test_x' 的形状: (30, 256)\n",
      "重塑后 'train_x' 的形状: (30, 256)\n",
      "测试集标签 'test_y_1d' 的形状: (30,)\n",
      "训练集标签 'train_y_1d' 的形状: (30,)\n"
     ]
    }
   ],
   "source": [
    "# --- 步骤 2: 将一维数据重塑为二维矩阵 ---\n",
    "\n",
    "# 从我们解析好的字典里，先把所有数据拿出来\n",
    "ans_data = parsed_data['ans']\n",
    "test_x_1d = parsed_data['testx']\n",
    "test_y_1d = parsed_data['testy']\n",
    "train_x_1d = parsed_data['trainx']\n",
    "train_y_1d = parsed_data['trainy']\n",
    "\n",
    "# 根据样本数和特征数，定义矩阵的形状\n",
    "num_test_samples = 30\n",
    "num_train_samples = 30 \n",
    "num_features = 256\n",
    "\n",
    "# 使用 .reshape() 函数进行重塑\n",
    "test_x = test_x_1d.reshape(num_test_samples, num_features)\n",
    "train_x = train_x_1d.reshape(num_train_samples, num_features)\n",
    "\n",
    "print(\"✅ 数据重塑成功!\")\n",
    "print(f\"重塑后 'test_x' 的形状: {test_x.shape}\")\n",
    "print(f\"重塑后 'train_x' 的形状: {train_x.shape}\")\n",
    "print(f\"测试集标签 'test_y_1d' 的形状: {test_y_1d.shape}\")\n",
    "print(f\"训练集标签 'train_y_1d' 的形状: {train_y_1d.shape}\")\n",
    "\n",
    "# 现在，train_x 和 test_x 就是标准的机器学习输入格式了"
   ]
  },
  {
   "cell_type": "code",
   "execution_count": 13,
   "id": "b0cbd29f",
   "metadata": {},
   "outputs": [
    {
     "name": "stderr",
     "output_type": "stream",
     "text": [
      "/Users/yuema/Documents/stu_proj/digi_rec_proj/venv/lib/python3.12/site-packages/IPython/core/pylabtools.py:170: UserWarning: Glyph 36825 (\\N{CJK UNIFIED IDEOGRAPH-8FD9}) missing from font(s) Arial.\n",
      "  fig.canvas.print_figure(bytes_io, **kw)\n",
      "/Users/yuema/Documents/stu_proj/digi_rec_proj/venv/lib/python3.12/site-packages/IPython/core/pylabtools.py:170: UserWarning: Glyph 26159 (\\N{CJK UNIFIED IDEOGRAPH-662F}) missing from font(s) Arial.\n",
      "  fig.canvas.print_figure(bytes_io, **kw)\n",
      "/Users/yuema/Documents/stu_proj/digi_rec_proj/venv/lib/python3.12/site-packages/IPython/core/pylabtools.py:170: UserWarning: Glyph 19968 (\\N{CJK UNIFIED IDEOGRAPH-4E00}) missing from font(s) Arial.\n",
      "  fig.canvas.print_figure(bytes_io, **kw)\n",
      "/Users/yuema/Documents/stu_proj/digi_rec_proj/venv/lib/python3.12/site-packages/IPython/core/pylabtools.py:170: UserWarning: Glyph 20010 (\\N{CJK UNIFIED IDEOGRAPH-4E2A}) missing from font(s) Arial.\n",
      "  fig.canvas.print_figure(bytes_io, **kw)\n"
     ]
    },
    {
     "data": {
      "image/png": "[encoded data removed]",
      "text/plain": [
       "<Figure size 640x480 with 1 Axes>"
      ]
     },
     "metadata": {},
     "output_type": "display_data"
    }
   ],
   "source": [
    "import matplotlib.pyplot as plt\n",
    "\n",
    "# 让我们来查看训练集中的第一个样本\n",
    "# train_x 的第一行就是第一个样本的数据\n",
    "first_image_vector = train_x[0] \n",
    "# train_y_1d 的第一个元素就是它的标签\n",
    "first_image_label = train_y_1d[0]\n",
    "\n",
    "# 将 256 个元素的一维向量重塑为 16x16 的二维矩阵\n",
    "image_matrix = first_image_vector.reshape(16, 16)\n",
    "\n",
    "# 使用 matplotlib 的 imshow 函数来显示图像\n",
    "# cmap='gray' 表示使用灰度色谱，数字大=白色，数字小=黑色\n",
    "plt.imshow(image_matrix, cmap='gray')\n",
    "plt.title(f\"这是一个数字: {int(first_image_label)}\") # 将标签显示在标题中\n",
    "plt.axis('off') # 不显示坐标轴\n",
    "plt.show()"
   ]
  },
  {
   "cell_type": "code",
   "execution_count": 14,
   "id": "f098a873",
   "metadata": {},
   "outputs": [
    {
     "name": "stderr",
     "output_type": "stream",
     "text": [
      "/var/folders/xh/w8n362517zndsxkj07llvjt80000gn/T/ipykernel_43970/1293454960.py:9: FutureWarning: \n",
      "\n",
      "Passing `palette` without assigning `hue` is deprecated and will be removed in v0.14.0. Assign the `x` variable to `hue` and set `legend=False` for the same effect.\n",
      "\n",
      "  sns.countplot(x=train_y_1d.astype(int), palette=\"viridis\")\n",
      "/Users/yuema/Documents/stu_proj/digi_rec_proj/venv/lib/python3.12/site-packages/IPython/core/pylabtools.py:170: UserWarning: Glyph 25968 (\\N{CJK UNIFIED IDEOGRAPH-6570}) missing from font(s) Arial.\n",
      "  fig.canvas.print_figure(bytes_io, **kw)\n",
      "/Users/yuema/Documents/stu_proj/digi_rec_proj/venv/lib/python3.12/site-packages/IPython/core/pylabtools.py:170: UserWarning: Glyph 23383 (\\N{CJK UNIFIED IDEOGRAPH-5B57}) missing from font(s) Arial.\n",
      "  fig.canvas.print_figure(bytes_io, **kw)\n",
      "/Users/yuema/Documents/stu_proj/digi_rec_proj/venv/lib/python3.12/site-packages/IPython/core/pylabtools.py:170: UserWarning: Glyph 26631 (\\N{CJK UNIFIED IDEOGRAPH-6807}) missing from font(s) Arial.\n",
      "  fig.canvas.print_figure(bytes_io, **kw)\n",
      "/Users/yuema/Documents/stu_proj/digi_rec_proj/venv/lib/python3.12/site-packages/IPython/core/pylabtools.py:170: UserWarning: Glyph 31614 (\\N{CJK UNIFIED IDEOGRAPH-7B7E}) missing from font(s) Arial.\n",
      "  fig.canvas.print_figure(bytes_io, **kw)\n",
      "/Users/yuema/Documents/stu_proj/digi_rec_proj/venv/lib/python3.12/site-packages/IPython/core/pylabtools.py:170: UserWarning: Glyph 26679 (\\N{CJK UNIFIED IDEOGRAPH-6837}) missing from font(s) Arial.\n",
      "  fig.canvas.print_figure(bytes_io, **kw)\n",
      "/Users/yuema/Documents/stu_proj/digi_rec_proj/venv/lib/python3.12/site-packages/IPython/core/pylabtools.py:170: UserWarning: Glyph 26412 (\\N{CJK UNIFIED IDEOGRAPH-672C}) missing from font(s) Arial.\n",
      "  fig.canvas.print_figure(bytes_io, **kw)\n",
      "/Users/yuema/Documents/stu_proj/digi_rec_proj/venv/lib/python3.12/site-packages/IPython/core/pylabtools.py:170: UserWarning: Glyph 37327 (\\N{CJK UNIFIED IDEOGRAPH-91CF}) missing from font(s) Arial.\n",
      "  fig.canvas.print_figure(bytes_io, **kw)\n",
      "/Users/yuema/Documents/stu_proj/digi_rec_proj/venv/lib/python3.12/site-packages/IPython/core/pylabtools.py:170: UserWarning: Glyph 35757 (\\N{CJK UNIFIED IDEOGRAPH-8BAD}) missing from font(s) Arial.\n",
      "  fig.canvas.print_figure(bytes_io, **kw)\n",
      "/Users/yuema/Documents/stu_proj/digi_rec_proj/venv/lib/python3.12/site-packages/IPython/core/pylabtools.py:170: UserWarning: Glyph 32451 (\\N{CJK UNIFIED IDEOGRAPH-7EC3}) missing from font(s) Arial.\n",
      "  fig.canvas.print_figure(bytes_io, **kw)\n",
      "/Users/yuema/Documents/stu_proj/digi_rec_proj/venv/lib/python3.12/site-packages/IPython/core/pylabtools.py:170: UserWarning: Glyph 38598 (\\N{CJK UNIFIED IDEOGRAPH-96C6}) missing from font(s) Arial.\n",
      "  fig.canvas.print_figure(bytes_io, **kw)\n",
      "/Users/yuema/Documents/stu_proj/digi_rec_proj/venv/lib/python3.12/site-packages/IPython/core/pylabtools.py:170: UserWarning: Glyph 20013 (\\N{CJK UNIFIED IDEOGRAPH-4E2D}) missing from font(s) Arial.\n",
      "  fig.canvas.print_figure(bytes_io, **kw)\n",
      "/Users/yuema/Documents/stu_proj/digi_rec_proj/venv/lib/python3.12/site-packages/IPython/core/pylabtools.py:170: UserWarning: Glyph 21508 (\\N{CJK UNIFIED IDEOGRAPH-5404}) missing from font(s) Arial.\n",
      "  fig.canvas.print_figure(bytes_io, **kw)\n",
      "/Users/yuema/Documents/stu_proj/digi_rec_proj/venv/lib/python3.12/site-packages/IPython/core/pylabtools.py:170: UserWarning: Glyph 30340 (\\N{CJK UNIFIED IDEOGRAPH-7684}) missing from font(s) Arial.\n",
      "  fig.canvas.print_figure(bytes_io, **kw)\n",
      "/Users/yuema/Documents/stu_proj/digi_rec_proj/venv/lib/python3.12/site-packages/IPython/core/pylabtools.py:170: UserWarning: Glyph 20998 (\\N{CJK UNIFIED IDEOGRAPH-5206}) missing from font(s) Arial.\n",
      "  fig.canvas.print_figure(bytes_io, **kw)\n",
      "/Users/yuema/Documents/stu_proj/digi_rec_proj/venv/lib/python3.12/site-packages/IPython/core/pylabtools.py:170: UserWarning: Glyph 24067 (\\N{CJK UNIFIED IDEOGRAPH-5E03}) missing from font(s) Arial.\n",
      "  fig.canvas.print_figure(bytes_io, **kw)\n"
     ]
    },
    {
     "data": {
      "image/png": "[encoded data removed]",
      "text/plain": [
       "<Figure size 800x500 with 1 Axes>"
      ]
     },
     "metadata": {},
     "output_type": "display_data"
    },
    {
     "name": "stdout",
     "output_type": "stream",
     "text": [
      "各数字的样本数:\n",
      "{np.float64(1.0): np.int64(10), np.float64(2.0): np.int64(10), np.float64(3.0): np.int64(10)}\n"
     ]
    }
   ],
   "source": [
    "import seaborn as sns\n",
    "import numpy as np\n",
    "\n",
    "# 设置绘图风格\n",
    "sns.set(style=\"darkgrid\")\n",
    "\n",
    "# 绘制条形图来显示每个标签的数量\n",
    "plt.figure(figsize=(8, 5)) # 设置画布大小\n",
    "sns.countplot(x=train_y_1d.astype(int), palette=\"viridis\")\n",
    "\n",
    "plt.title(\"训练集中各数字的样本数量分布\")\n",
    "plt.xlabel(\"数字标签\")\n",
    "plt.ylabel(\"样本数量\")\n",
    "plt.show()\n",
    "\n",
    "# 也可以用 numpy 直接打印出具体的数字\n",
    "unique, counts = np.unique(train_y_1d, return_counts=True)\n",
    "print(\"各数字的样本数:\")\n",
    "print(dict(zip(unique, counts)))"
   ]
  },
  {
   "cell_type": "code",
   "execution_count": 15,
   "id": "488a2c59",
   "metadata": {},
   "outputs": [
    {
     "name": "stderr",
     "output_type": "stream",
     "text": [
      "/Users/yuema/Documents/stu_proj/digi_rec_proj/venv/lib/python3.12/site-packages/IPython/core/pylabtools.py:170: UserWarning: Glyph 24179 (\\N{CJK UNIFIED IDEOGRAPH-5E73}) missing from font(s) Arial.\n",
      "  fig.canvas.print_figure(bytes_io, **kw)\n",
      "/Users/yuema/Documents/stu_proj/digi_rec_proj/venv/lib/python3.12/site-packages/IPython/core/pylabtools.py:170: UserWarning: Glyph 22343 (\\N{CJK UNIFIED IDEOGRAPH-5747}) missing from font(s) Arial.\n",
      "  fig.canvas.print_figure(bytes_io, **kw)\n",
      "/Users/yuema/Documents/stu_proj/digi_rec_proj/venv/lib/python3.12/site-packages/IPython/core/pylabtools.py:170: UserWarning: Glyph 22270 (\\N{CJK UNIFIED IDEOGRAPH-56FE}) missing from font(s) Arial.\n",
      "  fig.canvas.print_figure(bytes_io, **kw)\n",
      "/Users/yuema/Documents/stu_proj/digi_rec_proj/venv/lib/python3.12/site-packages/IPython/core/pylabtools.py:170: UserWarning: Glyph 20687 (\\N{CJK UNIFIED IDEOGRAPH-50CF}) missing from font(s) Arial.\n",
      "  fig.canvas.print_figure(bytes_io, **kw)\n",
      "/Users/yuema/Documents/stu_proj/digi_rec_proj/venv/lib/python3.12/site-packages/IPython/core/pylabtools.py:170: UserWarning: Glyph 23545 (\\N{CJK UNIFIED IDEOGRAPH-5BF9}) missing from font(s) Arial.\n",
      "  fig.canvas.print_figure(bytes_io, **kw)\n",
      "/Users/yuema/Documents/stu_proj/digi_rec_proj/venv/lib/python3.12/site-packages/IPython/core/pylabtools.py:170: UserWarning: Glyph 27604 (\\N{CJK UNIFIED IDEOGRAPH-6BD4}) missing from font(s) Arial.\n",
      "  fig.canvas.print_figure(bytes_io, **kw)\n"
     ]
    },
    {
     "data": {
      "image/png": "[encoded data removed]",
      "text/plain": [
       "<Figure size 1200x400 with 3 Axes>"
      ]
     },
     "metadata": {},
     "output_type": "display_data"
    }
   ],
   "source": [
    "# 创建一个 1x3 的子图网格，用来并排显示3个数字的平均图像\n",
    "fig, axes = plt.subplots(1, 3, figsize=(12, 4))\n",
    "\n",
    "# 我们要看的数字是 1, 2, 3\n",
    "labels_to_show = [1, 2, 3]\n",
    "\n",
    "for i, label in enumerate(labels_to_show):\n",
    "    # 1. 找到所有标签为当前数字的图像\n",
    "    #    train_y_1d == label 会返回一个布尔数组 [True, False, True, ...]\n",
    "    #    train_x[...] 会根据这个布尔数组筛选出对应的行\n",
    "    images_of_a_digit = train_x[train_y_1d == label]\n",
    "    \n",
    "    # 2. 计算这些图像的平均值\n",
    "    #    axis=0 表示沿着行的方向（样本方向）进行平均\n",
    "    mean_image = images_of_a_digit.mean(axis=0)\n",
    "    \n",
    "    # 3. 将平均后的一维向量重塑为 16x16 图像\n",
    "    mean_image_matrix = mean_image.reshape(16, 16)\n",
    "    \n",
    "    # 4. 在对应的子图上显示图像\n",
    "    ax = axes[i]\n",
    "    ax.imshow(mean_image_matrix, cmap='gray')\n",
    "    ax.set_title(f\"数字 '{label}' 的平均图像\")\n",
    "    ax.axis('off')\n",
    "\n",
    "plt.suptitle(\"各数字的平均图像对比\")\n",
    "plt.show()"
   ]
  },
  {
   "cell_type": "code",
   "execution_count": null,
   "id": "e1298912",
   "metadata": {},
   "outputs": [],
   "source": []
  }
 ],
 "metadata": {
  "kernelspec": {
   "display_name": "venv",
   "language": "python",
   "name": "python3"
  },
  "language_info": {
   "codemirror_mode": {
    "name": "ipython",
    "version": 3
   },
   "file_extension": ".py",
   "mimetype": "text/x-python",
   "name": "python",
   "nbconvert_exporter": "python",
   "pygments_lexer": "ipython3",
   "version": "3.12.7"
  }
 },
 "nbformat": 4,
 "nbformat_minor": 5
}
