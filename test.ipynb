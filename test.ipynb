{
 "cells": [
  {
   "cell_type": "code",
   "execution_count": 1,
   "id": "4c23ddc6",
   "metadata": {},
   "outputs": [],
   "source": [
    "import numpy as np"
   ]
  },
  {
   "cell_type": "code",
   "execution_count": 3,
   "id": "f241685f",
   "metadata": {},
   "outputs": [
    {
     "name": "stdout",
     "output_type": "stream",
     "text": [
      "尝试使用 numpy.loadtxt 读取文件: digit_123.mat\n",
      "读取文件时依然出错: the number of columns changed from 2 to 256 at row 2; use `usecols` to select a subset and avoid this error\n"
     ]
    }
   ],
   "source": [
    "import numpy as np\n",
    "\n",
    "# 文件路径保持不变\n",
    "file_path = 'digit_123.mat'\n",
    "\n",
    "print(f\"尝试使用 numpy.loadtxt 读取文件: {file_path}\")\n",
    "\n",
    "try:\n",
    "    # 使用 numpy.loadtxt 来读取文本格式的数据文件\n",
    "    # comments='#' 会告诉函数自动忽略所有以 '#' 开头的注释行\n",
    "    data = np.loadtxt(file_path, comments='#')\n",
    "    \n",
    "    # 查看加载后数据的形状 (shape) 和前几行，确认是否成功\n",
    "    print(\"✅ 成功加载数据！\")\n",
    "    print(\"数据形状 (rows, columns):\", data.shape)\n",
    "    print(\"数据前5行:\\n\", data[:5, :])\n",
    "\n",
    "except Exception as e:\n",
    "    print(f\"读取文件时依然出错: {e}\")"
   ]
  },
  {
   "cell_type": "code",
   "execution_count": null,
   "id": "b0cbd29f",
   "metadata": {},
   "outputs": [],
   "source": []
  },
  {
   "cell_type": "code",
   "execution_count": null,
   "id": "f098a873",
   "metadata": {},
   "outputs": [],
   "source": []
  },
  {
   "cell_type": "code",
   "execution_count": null,
   "id": "488a2c59",
   "metadata": {},
   "outputs": [],
   "source": []
  }
 ],
 "metadata": {
  "kernelspec": {
   "display_name": "venv",
   "language": "python",
   "name": "python3"
  },
  "language_info": {
   "codemirror_mode": {
    "name": "ipython",
    "version": 3
   },
   "file_extension": ".py",
   "mimetype": "text/x-python",
   "name": "python",
   "nbconvert_exporter": "python",
   "pygments_lexer": "ipython3",
   "version": "3.12.7"
  }
 },
 "nbformat": 4,
 "nbformat_minor": 5
}
